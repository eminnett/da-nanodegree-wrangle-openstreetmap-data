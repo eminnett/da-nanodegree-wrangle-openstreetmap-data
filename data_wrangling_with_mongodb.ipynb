{
 "cells": [
  {
   "cell_type": "markdown",
   "metadata": {},
   "source": [
    "# OpenStreetMap Data Wrangling with MongoDB\n",
    "## Data Wrangling Project\n",
    "#### Data Analyst Nanodegree (Udacity)\n",
    "Project submission by Edward Minnett (ed@methodic.io).\n",
    "\n",
    "July 26th 2016. (Revision 1)\n",
    "\n",
    "----------"
   ]
  },
  {
   "cell_type": "markdown",
   "metadata": {},
   "source": [
    "## Overview"
   ]
  },
  {
   "cell_type": "markdown",
   "metadata": {
    "collapsed": true
   },
   "source": [
    "This project seeks to apply data munging techniques to first analyse and clean Open Street Map data for a single city and then perform an exploratory anlaysis of the data after importing it into a MongoDB collection.\n",
    "\n",
    "I chose to explore the Open Street Map data for Oxfor England as for the last couple of years I have lived in a small village south of Oxford. Having visited the city on quite a few occasions, I am confident that there is a lot of intersting information to be dsicovered through this analysis."
   ]
  },
  {
   "cell_type": "markdown",
   "metadata": {},
   "source": [
    "The data for this project was aquired from Map Zen. The compressed Oxford, England OSM XML data set can be downloaded by following this [link](https://s3.amazonaws.com/metro-extracts.mapzen.com/oxford_england.osm.bz2). The OSM file is 5.0 MB compressed and 66.2 MB uncompressed."
   ]
  },
  {
   "cell_type": "code",
   "execution_count": 1,
   "metadata": {
    "collapsed": true
   },
   "outputs": [],
   "source": [
    "# The following is needed at the biging of the notebook to make sure the cells execute ok.\n",
    "import sys\n",
    "sys.path.append('./case_study_files')\n",
    "\n",
    "data_name = \"oxford_england\"\n",
    "OSMFILE = \"{}.osm\".format(data_name)"
   ]
  },
  {
   "cell_type": "markdown",
   "metadata": {},
   "source": [
    "## Problems encountered in the map"
   ]
  },
  {
   "cell_type": "markdown",
   "metadata": {},
   "source": [
    "As you would expect from any crowd-sourced data, there is evidence of inconsistent naming conventions as well as evidence of human error when the data was eneterd. The two main areas of inconsistency that affect this project is in the names used to describe the type of record in the data and the strings used as values within the data. It isn't feasible to analyise all values in the data, but street names are one type of value where inconsistency in values has a significant impact on the quality of the data. \n",
    "\n",
    "The following analysis attempts to find problems with tag key names along with suggested fixes for the problems. There is a similar analysis and set of recommendations for fixing the values used for street names."
   ]
  },
  {
   "cell_type": "markdown",
   "metadata": {},
   "source": [
    "### Tag key name problems"
   ]
  },
  {
   "cell_type": "code",
   "execution_count": 2,
   "metadata": {
    "collapsed": false
   },
   "outputs": [
    {
     "name": "stdout",
     "output_type": "stream",
     "text": [
      "The number of keys in each of the 'problem' categories:\n",
      "{'problemchars': 5, 'upper': 120, 'lower': 143057, 'upper_colon': 7638, 'numbers': 769, 'multiple_colons': 608, 'lower_colon': 47850, 'other': 1}\n",
      "There are 1011 unique tag key names in the data set.\n"
     ]
    }
   ],
   "source": [
    "# Find problems with tag names\n",
    "import tags as tags_processor\n",
    "tag_problems = tags_processor.process_map(OSMFILE)\n",
    "\n",
    "# Additional key categories have been added in an attempt to catch additional key name patterns and minimise \n",
    "# the number of keys that fall within the 'other' category.\n",
    "\n",
    "# The problems are defined as follows:\n",
    "#   \"lower\", for tags that contain only lowercase letters and are valid,\n",
    "#   \"upper\", for tags that contain upercase letters,\n",
    "#   \"lower_colon\", for otherwise valid tags with a colon in their names,\n",
    "#   \"uper_colon\", for tags contain both uppercase strings delimited by a colon,\n",
    "#   \"multiple_colons\", for tags contain more than two colon seperated strings,\n",
    "#   \"numbers\", for tags that contain a digit, and\n",
    "#   \"problemchars\", for tags with problematic characters, and\n",
    "#   \"other\", for other tags that do not fall into the other three categories.\n",
    "print \"The number of keys in each of the 'problem' categories:\"\n",
    "print tag_problems['counts']\n",
    "unique_key_names = tags_processor.unique_tag_keys(OSMFILE)\n",
    "print \"There are {} unique tag key names in the data set.\".format(len(unique_key_names))"
   ]
  },
  {
   "cell_type": "markdown",
   "metadata": {},
   "source": [
    "It is the tags that fall under 'problemchars' that will be particularly problematic as these tag key names aren't valid key names in MongoDB. Let's see what these tags look like and how they could be fixed."
   ]
  },
  {
   "cell_type": "code",
   "execution_count": 3,
   "metadata": {
    "collapsed": false
   },
   "outputs": [
    {
     "data": {
      "text/plain": [
       "['leaving for now',\n",
       " 'fee:amount:box_van&minibus',\n",
       " 'note:0.1',\n",
       " 'note:0.2',\n",
       " 'note 2']"
      ]
     },
     "execution_count": 3,
     "metadata": {},
     "output_type": "execute_result"
    }
   ],
   "source": [
    "tag_problems['keys']['problemchars']"
   ]
  },
  {
   "cell_type": "markdown",
   "metadata": {},
   "source": [
    "These issues can be easily fixed by making the following replacements:\n",
    "\n",
    "- Replace ' ' with '\\_'\n",
    "- Replace '&' with '\\_and\\_'\n",
    "- Replace '.' with '\\_'\n",
    "\n",
    "The logic to do this has been added to the case_study_files/data.py so that the key values are tidied when the elements are being shaped.\n",
    "\n",
    "We will also add logic to handle the keys that fall under 'upper' and 'upper_colon'. This can be fixed by ensuring that shape_element uses the lowercase version of the strings.\n",
    "\n",
    "The key names that fall under 'multiple_colons' can be handled by adding additional nesting within the JSON data created by shape_element.\n",
    "\n",
    "Tag key names that fall within the 'numbers' category are useful to know about, but numbers are valid characters in MongoDB strings so no additional processing is required.\n",
    "\n",
    "It is also worth looking at the one remaining key that fall under 'other' to see why it doesn't fall withing one of the other categories."
   ]
  },
  {
   "cell_type": "code",
   "execution_count": 4,
   "metadata": {
    "collapsed": false
   },
   "outputs": [
    {
     "data": {
      "text/plain": [
       "{'name:sr-Latn'}"
      ]
     },
     "execution_count": 4,
     "metadata": {},
     "output_type": "execute_result"
    }
   ],
   "source": [
    "set(tag_problems['keys']['other'])"
   ]
  },
  {
   "cell_type": "markdown",
   "metadata": {},
   "source": [
    "Like the tag key names that contain numbers, the hyphen is also a valid character in a MongoDB key ao this one one 'other' key name is fine as it is."
   ]
  },
  {
   "cell_type": "markdown",
   "metadata": {},
   "source": [
    "### Street name problems"
   ]
  },
  {
   "cell_type": "code",
   "execution_count": 161,
   "metadata": {
    "collapsed": false
   },
   "outputs": [
    {
     "data": {
      "text/plain": [
       "defaultdict(set,\n",
       "            {'1': {'Avenue 1'},\n",
       "             '2': {'Avenue 2'},\n",
       "             '3': {'Avenue 3'},\n",
       "             '4': {'Avenue 4'},\n",
       "             \"Aldate's\": {\"St Aldate's\"},\n",
       "             'Ave': {'Waverly Ave'},\n",
       "             'Barr': {'Upper Barr'},\n",
       "             'Bridge': {'Folly Bridge'},\n",
       "             'Broadway': {'The Broadway'},\n",
       "             'Buildings': {'Manor Buildings'},\n",
       "             'Castle': {'Oxford Castle'},\n",
       "             'Centre': {'Fairfax Centre'},\n",
       "             'Centremead': {'Centremead'},\n",
       "             'Chorefields': {'Chorefields'},\n",
       "             'Clements': {'St Clements'},\n",
       "             'Cloisters': {'Temple Cloisters'},\n",
       "             'Close': {'Acland Close',\n",
       "              'Acre Close',\n",
       "              'Amory Close',\n",
       "              'Ashcroft Close',\n",
       "              'Ashroft Close',\n",
       "              'Barn Close',\n",
       "              'Bartlemas Close',\n",
       "              'Benouville Close',\n",
       "              'Blackburn Close',\n",
       "              'Broad Close',\n",
       "              'Browns Close',\n",
       "              'Bullstake Close',\n",
       "              'Burgan Close',\n",
       "              'Burrows Close',\n",
       "              'Bushy Close',\n",
       "              'Cardinal Close',\n",
       "              'Carey Close',\n",
       "              'Cholsey Close',\n",
       "              'Clover Close',\n",
       "              'Compass Close',\n",
       "              'Complins Close',\n",
       "              'Coolidge Close',\n",
       "              'Cornwallis Close',\n",
       "              'Denton Close',\n",
       "              'Don Bosco Close',\n",
       "              'Dora Carr Close',\n",
       "              'Dover Close',\n",
       "              'East Field Close',\n",
       "              'Egrove Close',\n",
       "              'Eleanor Close',\n",
       "              'Evelyn Close',\n",
       "              'Galpin Close',\n",
       "              'Goodey Close',\n",
       "              'Halls Close',\n",
       "              'Hayday Close',\n",
       "              'Highbank Close',\n",
       "              'Hillsborough Close',\n",
       "              'Homestall Close',\n",
       "              'Hundred Acres Close',\n",
       "              'Hunter Close',\n",
       "              'Hutchcomb Farm Close',\n",
       "              'Ivy Close',\n",
       "              'John Parker Close',\n",
       "              'Kames Close',\n",
       "              'Kennedy Close',\n",
       "              'Lambton Close',\n",
       "              'Long Close',\n",
       "              'Marley Close',\n",
       "              'Meyseys Close',\n",
       "              'Nobles Close',\n",
       "              'Osborne Close',\n",
       "              'Owlington Close',\n",
       "              'Pottle Close',\n",
       "              'Pulker Close',\n",
       "              'Queens Close',\n",
       "              'Riely Close',\n",
       "              'Robinson Close',\n",
       "              'Roundham Close',\n",
       "              'Silkdale Close',\n",
       "              'Skene Close',\n",
       "              'Songers Close',\n",
       "              'South Close',\n",
       "              \"St Ebba's Close\",\n",
       "              \"Stimpson's Close\",\n",
       "              'Stone Close',\n",
       "              'Stubble Close',\n",
       "              'Troy Close',\n",
       "              'Venneit Close',\n",
       "              'Yeats Close'},\n",
       "             'Crescent': {'Brookfield Crescent',\n",
       "              'Canning Crescent',\n",
       "              'Corunna Crescent',\n",
       "              'Fox Crescent',\n",
       "              'Herschel Crescent',\n",
       "              'Hugh Allen Crescent',\n",
       "              'Kendall Crescent',\n",
       "              'Kersington Crescent',\n",
       "              'Lockheart Crescent',\n",
       "              'Normandy Crescent',\n",
       "              'Salisbury Crescent',\n",
       "              'Walton Crescent',\n",
       "              'Westbury Crescent',\n",
       "              'Wykeham Crescent'},\n",
       "             'Down': {'Colegrove Down'},\n",
       "             'Driftway': {'Brasenose Driftway', 'Horspath Driftway'},\n",
       "             'East': {'Woodstock Road East'},\n",
       "             'Entry': {'Friars Entry'},\n",
       "             'Furze': {'Demesne Furze', 'Inott Furze', 'Town Furze'},\n",
       "             'Gardens': {'Court Place Gardens',\n",
       "              'Croxford Gardens',\n",
       "              'Mileway Gardens',\n",
       "              'Norham Gardens'},\n",
       "             'Giles': {'St Giles'},\n",
       "             \"Giles'\": {\"Saint Giles'\", \"St Giles'\"},\n",
       "             'Glebe': {'The Glebe'},\n",
       "             'Glebelands': {'Glebelands'},\n",
       "             'Grates': {'The Grates'},\n",
       "             'Green': {'Gloucester Green'},\n",
       "             'Ground': {\"Cox's Ground\"},\n",
       "             'Hill': {'Cumnior Hill',\n",
       "              'Cumnor Hill',\n",
       "              'Heyford Hill',\n",
       "              'Rose Hill',\n",
       "              'The Cedars, Cumnor Hill',\n",
       "              'Tumbledown Hill'},\n",
       "             'Hillside': {'Hillside'},\n",
       "             'Hollow': {'Quarry Hollow'},\n",
       "             'House': {'Salesian House'},\n",
       "             'Hurdeswell': {'Hurdeswell'},\n",
       "             'Mead': {'Osney Mead'},\n",
       "             'Meadow': {'Stone Meadow', 'Upper Meadow'},\n",
       "             'Mews': {'Fairfax Mews', 'Temple Mews'},\n",
       "             'Moors': {'Peat Moors'},\n",
       "             'Parade': {'Elms Parade', 'South Parade', 'The Parade'},\n",
       "             'Park': {'Seacourt Tower Retail Park',\n",
       "              'Southfield Park',\n",
       "              'Templers Shopping Park',\n",
       "              'The Park'},\n",
       "             'Path': {'The Towing Path'},\n",
       "             'Phelps': {'The Phelps'},\n",
       "             'Plain': {'The Plain'},\n",
       "             'Quarter': {'Oxford Castle Quarter'},\n",
       "             'Quorum': {'The Quorum'},\n",
       "             'Rd': {'Abingdon Rd',\n",
       "              'Appleton Rd',\n",
       "              'Faringdon Rd',\n",
       "              'Fogwell Rd',\n",
       "              'Glebe Rd',\n",
       "              'Oxford Rd'},\n",
       "             'Ridgeway': {'The Ridgeway'},\n",
       "             'Rise': {'Third Acre Rise'},\n",
       "             'Roundabout': {'Wolvercote Roundabout'},\n",
       "             'Roundway': {'The Roundway'},\n",
       "             'Row': {'Hollybush Row'},\n",
       "             'Slade': {'The Slade'},\n",
       "             'St': {'High St'},\n",
       "             'Sunnyside': {'Sunnyside'},\n",
       "             'Terrace': {'Cranham Terrace', 'Weymann Terrace'},\n",
       "             'Town': {'Park Town'},\n",
       "             'Trees': {'Cherry Trees'},\n",
       "             'Turn': {'Iffley Turn'},\n",
       "             'Valley': {'Lye Valley'},\n",
       "             'View': {'Fair View'},\n",
       "             'Village': {'Wootton Village'},\n",
       "             'Walk': {'Church Walk'},\n",
       "             'Way': {'Alec Issigonis Way',\n",
       "              \"Arnold's Way\",\n",
       "              'Arnolds Way',\n",
       "              'Ashhurst Way',\n",
       "              'Bellenger Way',\n",
       "              'Church Way',\n",
       "              'Delamare Way',\n",
       "              'Dunnock Way',\n",
       "              'Elizabeth Jennings Way',\n",
       "              'Gordon Woodward Way',\n",
       "              'Headley Way',\n",
       "              'Hollow Way',\n",
       "              'Leander Way',\n",
       "              'Manzil Way',\n",
       "              'Mazil Way',\n",
       "              'Middle Way',\n",
       "              'Navigation Way',\n",
       "              'Oakwood Way',\n",
       "              'Orchard Way',\n",
       "              'Pinnocks Way',\n",
       "              'Reliance Way',\n",
       "              'Reliuance Way',\n",
       "              'Seven Sisters Way',\n",
       "              'Sheldon Way',\n",
       "              'Unit 1, Seacourt Towers, West Way',\n",
       "              'West Way',\n",
       "              'Wilsdon Way'},\n",
       "             'Way,': {'Roger Dudman Way,'},\n",
       "             'Way?': {'Reliance Way?'},\n",
       "             'West': {'Sandy Lane West'},\n",
       "             'Winnyards': {'The Winnyards'},\n",
       "             'Woodfield': {'Woodfield'},\n",
       "             'Yard': {'New Inn Yard'},\n",
       "             'road': {'Marston road'},\n",
       "             'way': {'Reliance way'}})"
      ]
     },
     "execution_count": 161,
     "metadata": {},
     "output_type": "execute_result"
    }
   ],
   "source": [
    "# Find problems with street names\n",
    "import audit as street_name_auditor\n",
    "street_name_auditor.audit(OSMFILE)"
   ]
  },
  {
   "cell_type": "markdown",
   "metadata": {},
   "source": [
    "The large majority of these street names are valid, but there are a few problems. There are a few cases of abbreviated street names such as 'Ave', 'Rd' and 'St'. There are also several cases of punctuations mistakes such as 'Way?' and 'Way,'. There are cases of both 'road' and 'way' being lowercase. There is also a typo where 'Reliuance Way' should be 'Reliance Way'. The oddest problems are the cases of 'Avenue 1' through 'Avenue 4'. In Kennington just outside of Oxford the main street is called 'The Avenue'. I believe these street names may be mistakes or parsing issues. They don't match any obvious street names and as a result will be treated as anomolies and ignored.\n",
    "\n",
    "Logic has been added to case_study_files/data.py to clean up these inconsistencies."
   ]
  },
  {
   "cell_type": "markdown",
   "metadata": {},
   "source": [
    "## Load the Data"
   ]
  },
  {
   "cell_type": "code",
   "execution_count": 6,
   "metadata": {
    "collapsed": false
   },
   "outputs": [
    {
     "name": "stdout",
     "output_type": "stream",
     "text": [
      "Number of records in the oxford_england MongoDB collection: 321322\n",
      "A sample record from the oxford_england MongoDB collection: {u'created': {u'changeset': u'10706805', u'version': u'4', u'uid': u'27408', u'timestamp': u'2012-02-16T23:08:31Z', u'user': u'Andrew Chadwick'}, u'pos': [51.6994959, -1.2645627], u'visible': None, u'_id': ObjectId('57963746d0958625140ac407'), u'type': u'node', u'id': u'194502'}\n"
     ]
    }
   ],
   "source": [
    "# This snippet uses the process_map function from the case study data.py script. This process is idempotent and will \n",
    "# only load more data into MongoDB if any of the following happens:\n",
    "#     - The number of records in the MongoDB collection matching the data_name variable has changed.\n",
    "#     - The value of the data_name variable changes.\n",
    "#     - The number of records in the OSM file matching data_name changes.\n",
    "\n",
    "import data as data_processor\n",
    "data = data_processor.process_map(OSMFILE, True)\n",
    "\n",
    "from pymongo import MongoClient\n",
    "client = MongoClient(\"mongodb://localhost:27017\")\n",
    "db = client.oxford_england_sample\n",
    "collection = getattr(db, data_name)\n",
    "\n",
    "collection_count = collection.count()\n",
    "\n",
    "# If the collection size dowsn't match the data size, load/reload the data.\n",
    "if collection_count != len(data):\n",
    "    if collection_count > 0:\n",
    "        collection.drop()\n",
    "    collection.insert_many(data)\n",
    "\n",
    "collection_count = collection.count()\n",
    "sample_record = collection.find_one()\n",
    "print \"Number of records in the {} MongoDB collection: {}\".format(data_name, collection_count)\n",
    "print \"A sample record from the {} MongoDB collection: {}\".format(data_name, sample_record)"
   ]
  },
  {
   "cell_type": "markdown",
   "metadata": {},
   "source": [
    "## Overview of the data"
   ]
  },
  {
   "cell_type": "code",
   "execution_count": 7,
   "metadata": {
    "collapsed": false
   },
   "outputs": [
    {
     "name": "stdout",
     "output_type": "stream",
     "text": [
      "oxford_england.osm is 66.214418 MB in size.\n",
      "oxford_england.osm.json is 99.004354 MB in size.\n"
     ]
    }
   ],
   "source": [
    "# Size of the OSM and JSON files.\n",
    "import os\n",
    "def get_size_in_mb_of_relative_file(file_name):\n",
    "    wd = %pwd\n",
    "    return os.stat(wd + '/' + file_name).st_size / 1000.0 / 1000.0\n",
    "\n",
    "for file_name in [OSMFILE, OSMFILE + '.json']:\n",
    "    file_size = get_size_in_mb_of_relative_file(file_name)\n",
    "    print \"{} is {} MB in size.\".format(file_name, file_size)"
   ]
  },
  {
   "cell_type": "code",
   "execution_count": 8,
   "metadata": {
    "collapsed": false
   },
   "outputs": [
    {
     "name": "stdout",
     "output_type": "stream",
     "text": [
      "Number of records in the oxford_england MongoDB collection: 321322\n"
     ]
    }
   ],
   "source": [
    "# Number of records:\n",
    "print \"Number of records in the {} MongoDB collection: {}\".format(data_name, collection_count)"
   ]
  },
  {
   "cell_type": "code",
   "execution_count": 9,
   "metadata": {
    "collapsed": false
   },
   "outputs": [
    {
     "name": "stdout",
     "output_type": "stream",
     "text": [
      "Number of 'node' records in the oxford_england MongoDB collection: 274664\n"
     ]
    }
   ],
   "source": [
    "# Number of nodes:\n",
    "num_nodes = collection.find({\"type\":\"node\"}).count()\n",
    "print \"Number of 'node' records in the {} MongoDB collection: {}\".format(data_name, num_nodes)"
   ]
  },
  {
   "cell_type": "code",
   "execution_count": 10,
   "metadata": {
    "collapsed": false
   },
   "outputs": [
    {
     "name": "stdout",
     "output_type": "stream",
     "text": [
      "Number of 'way' records in the oxford_england MongoDB collection: 46600\n"
     ]
    }
   ],
   "source": [
    "# Number of ways:\n",
    "num_ways = collection.find({\"type\":\"way\"}).count()\n",
    "print \"Number of 'way' records in the {} MongoDB collection: {}\".format(data_name, num_ways)"
   ]
  },
  {
   "cell_type": "code",
   "execution_count": 11,
   "metadata": {
    "collapsed": false
   },
   "outputs": [
    {
     "name": "stdout",
     "output_type": "stream",
     "text": [
      "Number of unique 'users' in the oxford_england MongoDB collection: 567\n"
     ]
    }
   ],
   "source": [
    "# Number of unique users:\n",
    "num_unique_users = len(collection.distinct(\"created.user\"))\n",
    "print \"Number of unique 'users' in the {} MongoDB collection: {}\".format(data_name, num_unique_users)"
   ]
  },
  {
   "cell_type": "code",
   "execution_count": 15,
   "metadata": {
    "collapsed": false
   },
   "outputs": [
    {
     "name": "stdout",
     "output_type": "stream",
     "text": [
      "Number of unique 'amenities' in the oxford_england MongoDB collection: 127\n"
     ]
    }
   ],
   "source": [
    "# Number of unique amenity types:\n",
    "num_unique_amenities = len(collection.distinct(\"amenity\"))\n",
    "print \"Number of unique 'amenity' values in the {} MongoDB collection: {}\".format(data_name, num_unique_amenities)"
   ]
  },
  {
   "cell_type": "code",
   "execution_count": 16,
   "metadata": {
    "collapsed": false
   },
   "outputs": [
    {
     "name": "stdout",
     "output_type": "stream",
     "text": [
      "Number of unique 'cuisine' values in the oxford_england MongoDB collection: 57\n"
     ]
    }
   ],
   "source": [
    "# Number of unique cuisine types:\n",
    "num_unique_cuisines = len(collection.distinct(\"cuisine\"))\n",
    "print \"Number of unique 'cuisine' values in the {} MongoDB collection: {}\".format(data_name, num_unique_cuisines)"
   ]
  },
  {
   "cell_type": "code",
   "execution_count": 105,
   "metadata": {
    "collapsed": false
   },
   "outputs": [
    {
     "name": "stdout",
     "output_type": "stream",
     "text": [
      "Number of 'university' and 'college' records in the oxford_england MongoDB collection: 119\n"
     ]
    }
   ],
   "source": [
    "# Number of universities and colleges:\n",
    "num_colleges = collection.find({\"amenity\": {\"$in\": [\"university\", \"college\"]}}).count()\n",
    "print \"Number of 'university' and 'college' records in the {} MongoDB collection: {}\".format(data_name, num_colleges)"
   ]
  },
  {
   "cell_type": "markdown",
   "metadata": {},
   "source": [
    "## Other ideas about the datasets"
   ]
  },
  {
   "cell_type": "markdown",
   "metadata": {},
   "source": [
    "Oxford is a very intersting city not simply because of the history and prestige of Oxford University, but also because of its density and diversity of amenities woven within a fabric of well integrated network of pedestrian, bicycle, and public transport routes. It would be very interesting to explore the relationships between these amenities and the various networks that allow people to move around the city.\n",
    "\n",
    "The outcome of analysis could be very helpful in planning activities and events within the city as well as providing information about which parts of the city are likely to be busiest during the tourist season.\n",
    "\n",
    "That said, the OSM data for Oxford may not make such an analysis very easy to undertake. For example, data about the bus and rail networks are encoded using the NAPTAN schema ([NAPTAN stands for National Public Transport Access Nodes](https://www.gov.uk/government/publications/national-public-transport-access-node-schema)) but this information does not always contain information about street names."
   ]
  },
  {
   "cell_type": "code",
   "execution_count": 143,
   "metadata": {
    "collapsed": false
   },
   "outputs": [
    {
     "name": "stdout",
     "output_type": "stream",
     "text": [
      "A bus stop node without street information.\n",
      "{u'direction': u'W', u'name': u'Herschel Crescent', u'journeys': u'6', u'created': {u'changeset': u'8007524', u'version': u'6', u'uid': u'74570', u'timestamp': u'2011-04-29T22:38:18Z', u'user': u'Richard Mann'}, u'pos': [51.7249536, -1.2152904], u'visible': None, u'frequency': u'0', u'naptan': {u'Bearing': u'W'}, u'source': u'photograph', u'bus_routes': u'16A', u'_id': ObjectId('57963746d0958625140add4d'), u'type': u'node', u'id': u'16640101', u'highway': u'bus_stop'}\n",
      "\n",
      "\n",
      "A bus stop node with street information.\n",
      "{u'direction': u'W', u'name': u'Long Lane', u'journeys': u'6', u'created': {u'changeset': u'8007524', u'version': u'6', u'uid': u'74570', u'timestamp': u'2011-04-29T22:38:18Z', u'user': u'Richard Mann'}, u'pos': [51.7249171, -1.2181715], u'note': u'NAPTAN node in wrong place, and erroneously marked CUS', u'visible': None, u'frequency': u'0', u'naptan': {u'Bearing': u'W', u'Indicator': u'Opp Sheldon Way', u'BusStopType': u'CUS', u'CommonName': u'Long Lane', u'PlusbusZoneRef': u'OXFD', u'Street': u'Long Lane', u'Landmark': u'Sheldon Way', u'AtcoCode': u'340000958OPP', u'NaptanCode': u'oxfatjdj'}, u'source': u'naptan_import;photograph', u'bus_routes': u'16A', u'_id': ObjectId('57963746d0958625140add54'), u'type': u'node', u'id': u'16640114', u'highway': u'bus_stop'}\n"
     ]
    }
   ],
   "source": [
    "print \"A bus stop node without street information.\"\n",
    "print collection.find_one({\"naptan\": {\"$exists\": 1}, \"highway\": \"bus_stop\"})\n",
    "print \"\\n\"\n",
    "print \"A bus stop node with street information.\"\n",
    "print collection.find_one({\"naptan.Street\": {\"$exists\": 1}, \"highway\": \"bus_stop\"})"
   ]
  },
  {
   "cell_type": "markdown",
   "metadata": {},
   "source": [
    "### The top 10 most common amenities"
   ]
  },
  {
   "cell_type": "code",
   "execution_count": 144,
   "metadata": {
    "collapsed": false
   },
   "outputs": [
    {
     "name": "stdout",
     "output_type": "stream",
     "text": [
      "{u'count': 741, u'_id': u'parking'}\n",
      "{u'count': 521, u'_id': u'bicycle_parking'}\n",
      "{u'count': 332, u'_id': u'post_box'}\n",
      "{u'count': 187, u'_id': u'bench'}\n",
      "{u'count': 164, u'_id': u'pub'}\n",
      "{u'count': 163, u'_id': u'place_of_worship'}\n",
      "{u'count': 142, u'_id': u'telephone'}\n",
      "{u'count': 130, u'_id': u'restaurant'}\n",
      "{u'count': 110, u'_id': u'cafe'}\n",
      "{u'count': 102, u'_id': u'school'}\n"
     ]
    }
   ],
   "source": [
    "results = collection.aggregate([\n",
    "        {\"$match\": {\"amenity\": {\"$exists\": 1}}}, \n",
    "        {\"$group\": {\"_id\": \"$amenity\", \"count\": {\"$sum\": 1}}}, \n",
    "        {\"$sort\": {\"count\": -1}}, \n",
    "        {\"$limit\": 10}\n",
    "    ])\n",
    "for result in results:\n",
    "    print result"
   ]
  },
  {
   "cell_type": "markdown",
   "metadata": {},
   "source": [
    "### The top 10 most common types of cuisine"
   ]
  },
  {
   "cell_type": "code",
   "execution_count": 25,
   "metadata": {
    "collapsed": false,
    "scrolled": true
   },
   "outputs": [
    {
     "name": "stdout",
     "output_type": "stream",
     "text": [
      "{u'count': 31, u'_id': u'chinese'}\n",
      "{u'count': 26, u'_id': u'sandwich'}\n",
      "{u'count': 20, u'_id': u'indian'}\n",
      "{u'count': 15, u'_id': u'coffee_shop'}\n",
      "{u'count': 11, u'_id': u'fish_and_chips'}\n",
      "{u'count': 11, u'_id': u'burger'}\n",
      "{u'count': 11, u'_id': u'pizza'}\n",
      "{u'count': 10, u'_id': u'italian'}\n",
      "{u'count': 6, u'_id': u'thai'}\n",
      "{u'count': 5, u'_id': u'asian'}\n"
     ]
    }
   ],
   "source": [
    "results = collection.aggregate([\n",
    "        {\"$match\": {\"cuisine\": {\"$exists\": 1}}}, \n",
    "        {\"$group\": {\"_id\": \"$cuisine\", \"count\": {\"$sum\": 1}}}, \n",
    "        {\"$sort\": {\"count\": -1}}, \n",
    "        {\"$limit\": 10}\n",
    "    ])\n",
    "for result in results:\n",
    "    print result"
   ]
  },
  {
   "cell_type": "markdown",
   "metadata": {},
   "source": [
    "### Top 10 most commonly found places to eat"
   ]
  },
  {
   "cell_type": "code",
   "execution_count": 145,
   "metadata": {
    "collapsed": false
   },
   "outputs": [
    {
     "name": "stdout",
     "output_type": "stream",
     "text": [
      "Count 6: The Red Lion (pub - unknown cuisine)\n",
      "Count 5: Taylors (restaurant - sandwich)\n",
      "Count 5: La Croissanterie (cafe - unknown cuisine)\n",
      "Count 4: The White Hart (pub - unknown cuisine)\n",
      "Count 3: Mission Burrito (fast_food - mexican)\n",
      "Count 3: McDonald's (fast_food - burger)\n",
      "Count 3: Subway (fast_food - sandwich)\n",
      "Count 3: Pizza Hut (restaurant - pizza)\n",
      "Count 3: Mortons (cafe - sandwich)\n",
      "Count 3: Costa Coffee (cafe - unknown cuisine)\n"
     ]
    }
   ],
   "source": [
    "results = collection.aggregate([\n",
    "        {\"$match\": {\"amenity\": {\"$in\": [\"restaurant\", \"cafe\", \"pub\", \"fast_food\", \"delicatessen\"]}}}, \n",
    "        {\"$match\": {\"name\": {\"$exists\": 1}}},\n",
    "        {\"$group\": {\n",
    "                \"_id\": \"$name\", \n",
    "                \"amenity\": {\"$first\": \"$amenity\"}, \n",
    "                \"cuisine\": {\"$push\": \"$cuisine\"}, \n",
    "                \"count\": {\"$sum\": 1}\n",
    "            }},\n",
    "        {\"$project\": {\n",
    "                \"_id\": 0, \n",
    "                \"count\": 1, \n",
    "                \"name\": \"$_id\", \n",
    "                \"type\" : {\"$concat\": [\n",
    "                        \"$amenity\", \" - \", \n",
    "                        {\"$ifNull\": [{\"$arrayElemAt\": [\"$cuisine\", 0 ]}, \"unknown cuisine\"] }\n",
    "                    ]}\n",
    "            }},\n",
    "        {\"$sort\": {\"count\": -1}}, \n",
    "        {\"$limit\": 10}\n",
    "    ])\n",
    "\n",
    "for result in results:\n",
    "    print \"Count {}: {} ({})\".format(result['count'], result['name'], result['type'])"
   ]
  },
  {
   "cell_type": "markdown",
   "metadata": {},
   "source": [
    "It is interesting to note that Asian cuisines occupy 4 of the top top types of cuisine (1: Chinese, 3: Indian, 9: Thai, 1: Asian), yet there isn't a single business offering Asian cuisine in the top 10 most commonly found places to eat. This begins to illsutrate the trend that even though business offering Asian cuisine are numerous, they tend to be independent establishments rather than franchises or chains."
   ]
  },
  {
   "cell_type": "markdown",
   "metadata": {},
   "source": [
    "### The total reported bicycle parking cpacity\n",
    "\n",
    "We can't make any assumptions for records where 'capacity' is known."
   ]
  },
  {
   "cell_type": "code",
   "execution_count": 147,
   "metadata": {
    "collapsed": false
   },
   "outputs": [
    {
     "data": {
      "text/plain": [
       "[{u'_id': u'total_bicycle_parking_capacity', u'value': 8756.0}]"
      ]
     },
     "execution_count": 147,
     "metadata": {},
     "output_type": "execute_result"
    }
   ],
   "source": [
    "from bson.code import Code\n",
    "\n",
    "result = collection.inline_map_reduce(\n",
    "    Code(\"function() {\"\n",
    "         \"    if (this.capacity) {\"\n",
    "         \"        emit('total_bicycle_parking_capacity', Number(this.capacity));\"\n",
    "         \"    }\"\n",
    "         \"}\"), \n",
    "    Code(\"function(key, values) {\"\n",
    "         \"    var total = 0;\"\n",
    "         \"    for (var i = 0; i < values.length; i++) {\"\n",
    "         \"        total += values[i];\"\n",
    "         \"    }\"\n",
    "         \"    return total;\"\n",
    "         \"}\"),\n",
    "    query = {\"amenity\": \"bicycle_parking\"});\n",
    "result"
   ]
  },
  {
   "cell_type": "markdown",
   "metadata": {},
   "source": [
    "### The 5 streets with the most bus stops\n",
    "\n",
    "For bus stop nodes where the street name is known."
   ]
  },
  {
   "cell_type": "code",
   "execution_count": 137,
   "metadata": {
    "collapsed": false
   },
   "outputs": [
    {
     "name": "stdout",
     "output_type": "stream",
     "text": [
      "{u'street_name': u'Oxford Road', u'num_bus_stops': 43}\n",
      "{u'street_name': u'Banbury Road', u'num_bus_stops': 40}\n",
      "{u'street_name': u'Woodstock Road', u'num_bus_stops': 33}\n",
      "{u'street_name': u'High Street', u'num_bus_stops': 23}\n",
      "{u'street_name': u'Cowley Road', u'num_bus_stops': 20}\n"
     ]
    }
   ],
   "source": [
    "# \n",
    "results = collection.aggregate([\n",
    "        {\"$match\": {\"naptan\": {\"$exists\": 1}, \"highway\": \"bus_stop\"}},\n",
    "        {\"$group\": {\"_id\": \"$naptan.Street\", \"num_bus_stops\": {\"$sum\": 1}}},\n",
    "        {\"$project\": {\"_id\": 0, \"num_bus_stops\": 1, \"street_name\": \"$_id\"}},\n",
    "        {\"$sort\": {\"num_bus_stops\": -1}}, \n",
    "        {\"$limit\": 5}\n",
    "    ])\n",
    "for result in results:\n",
    "    print result"
   ]
  },
  {
   "cell_type": "markdown",
   "metadata": {},
   "source": [
    "## Conclusion"
   ]
  },
  {
   "cell_type": "markdown",
   "metadata": {
    "collapsed": true
   },
   "source": [
    "I am pleasantly surprised to see just how much information about Oxford is encoded within the OSM data. That said, the ineviatble nature of crowd sourced information is clearly present. There is quite a lot of inconsistency in the data (not all illustrated in this project) as well as records that do little more than act as meta information about the creation of the data itself (such as 'fixme' and 'note')."
   ]
  },
  {
   "cell_type": "code",
   "execution_count": 159,
   "metadata": {
    "collapsed": false
   },
   "outputs": [
    {
     "name": "stdout",
     "output_type": "stream",
     "text": [
      "There are 78 'meta' tag key names making up 7.72% of all unique tag key names.\n",
      "\n",
      "\n",
      "['note2', 'Fixme:responce_2', 'frequency:note', 'note:17', 'note:14', 'note:15', 'note:13', 'note:10', 'note:11', 'notes', 'oneway:note', 'building:levels:underground:note', 'continental_geometry:note', 'parking:fixme', 'FIXME:nsl', 'note:highway', 'parking:note', 'fixme:lane', 'Note:2', 'maxspeed:note', 'FIXME', 'note:bicycle', 'note:layer', 'Fixme:2', 'fixme:responce_3', 'fixme:responce_5', 'fixme:responce_4', 'note:alt_name', 'fixme', 'note:designation', 'note:cont', 'note:crossing', 'name:note', 'highway:note', 'naptan:Notes', 'FIXME:responce', 'FIXME:cont', 'note:reply', 'note:name', 'note', 'layer:note', 'note:16', 'note:barrier', 'not:name:note', 'bicycle:note', 'note:geometry', 'note:frequency', 'note:surface', 'alignment_note', 'note:park_and_ride', 'note:0.1', 'note:0.2', 'Note', 'crossing:note', 'payment:notes', 'note:4', 'note:5', 'note:6', 'note:7', 'note:0', 'note:2', 'note:3', 'note:8', 'note:9', 'note:cycleway', 'FIXME:responce_1', 'note:12', 'cycleway:right:note', 'note:route_ref', 'note:healthcare', 'note 2', 'fee:note', 'note_3', 'note_2', 'note_1', 'cycleway:note', 'Fixme', 'fixme:license']\n"
     ]
    }
   ],
   "source": [
    "meta_keys = [key for key in unique_key_names if 'fixme' in key.lower() or 'note' in key.lower()]\n",
    "percentage = '%.2f' % (float(len(meta_keys)) / len(unique_key_names) * 100)\n",
    "print \"There are {} 'meta' tag key names making up {}% of all unique tag key names.\".format(len(meta_keys), percentage)\n",
    "print \"\\n\"\n",
    "print [key for key in unique_key_names if 'fixme' in key.lower() or 'note' in key.lower()]"
   ]
  },
  {
   "cell_type": "markdown",
   "metadata": {},
   "source": [
    "### Resources"
   ]
  },
  {
   "cell_type": "markdown",
   "metadata": {},
   "source": [
    "The production of this project was waided by information found on the following website (various authors and contributors)\n",
    "\n",
    "- [Udacity.com](udacity.com)\n",
    "- [Docs.MongoDB.com](docs.mongodb.com)\n",
    "- [API.MongoDB.com/python](api.mongodb.com/python)\n",
    "- [StackOverflow.com](stackoverflow.com)"
   ]
  }
 ],
 "metadata": {
  "kernelspec": {
   "display_name": "Python 2",
   "language": "python",
   "name": "python2"
  },
  "language_info": {
   "codemirror_mode": {
    "name": "ipython",
    "version": 2
   },
   "file_extension": ".py",
   "mimetype": "text/x-python",
   "name": "python",
   "nbconvert_exporter": "python",
   "pygments_lexer": "ipython2",
   "version": "2.7.11"
  }
 },
 "nbformat": 4,
 "nbformat_minor": 0
}
